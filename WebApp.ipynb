{
 "cells": [
  {
   "cell_type": "markdown",
   "id": "acquired-preference",
   "metadata": {},
   "source": [
    "<h1><center> CAPM Model</center></h1>\n",
    "  <br>\n",
    "  The Capital Asset Pricing Model (CAPM) describes the relationship        between systematic risk and expected return for assets, particularly     stocks. CAPM is widely used throughout finance for pricing risky         securities and generating expected returns for assets given the risk     of those assets and cost of capital."
   ]
  },
  {
   "cell_type": "code",
   "execution_count": null,
   "id": "touched-jason",
   "metadata": {},
   "outputs": [],
   "source": [
    "import pandas as pd\n",
    "import numpy as np\n",
    "import matplotlib.pyplot as plt \n",
    "from sklearn.linear_model import LinearRegression\n",
    "from yahoofinancials import YahooFinancials\n",
    "from datetime import datetime\n",
    "from dateutil.relativedelta import relativedelta\n",
    "import warnings\n",
    "warnings.filterwarnings('ignore')\n",
    "import ipywidgets as widgets\n",
    "from IPython.display import display, clear_output"
   ]
  },
  {
   "cell_type": "markdown",
   "id": "improved-klein",
   "metadata": {},
   "source": [
    "<br>\n",
    "\n",
    "### Formula for calculation of market return and stock prices:\n",
    "\n",
    "\\begin{aligned} &R_n = (C_n - C_{n-1})/ C_{n-1}  \\\\ &\\textbf{where:} \\\\ &R_n = \\text{return in month n} \\\\ &C_n = \\text{price in month n} \\\\ \\end{aligned}"
   ]
  },
  {
   "cell_type": "markdown",
   "id": "found-valuation",
   "metadata": {},
   "source": [
    "<br>\n",
    "\n",
    "### Calculation using regression:\n",
    "The formula for calculating the expected return of an asset given its risk is as follows:\n",
    "\n",
    "\\begin{aligned} &ER_i = R_f + \\beta_i ( ER_m - R_f ) \\\\ &\\textbf{where:} \\\\ &ER_i = \\text{stock return} \\\\ &R_f = \\text{risk-free rate} \\\\ &R_m = \\text{market return}\\\\ &\\beta_i = \\text{beta of the investment} \\\\ &(ER_m - R_f) = \\text{market risk premium} \\\\ \\end{aligned} \n",
    "​\n",
    "​Each of these variables can be thought of using the slope-intercept framework where Re = y, B = slope, (Rm – Rf) = x, and Rf = y-intercept. Important insights to be gained from this framework are:\n",
    "\n",
    "1. An asset is expected to generate at least the risk-free rate of return.\n",
    "2. If the Beta of an individual stock or portfolio equals 1, then the return of the asset equals the average market return.\n",
    "3. The Beta coefficient represents the slope of the line of best fit for each Re – Rf (y) and Rm – Rf (x) excess return pair."
   ]
  },
  {
   "cell_type": "markdown",
   "id": "brief-healing",
   "metadata": {},
   "source": [
    "In the graph above, we plotted excess stock returns over excess market returns to find the line of best fit. However, we observe that this stock has a positive intercept value after accounting for the risk-free rate. This value represents Alpha, or the additional return expected from the stock when the market return is zero."
   ]
  },
  {
   "cell_type": "markdown",
   "id": "appreciated-steal",
   "metadata": {},
   "source": [
    "<br>\n",
    "\n",
    "### Calculation with covariance and variance (market):\n",
    "\\begin{aligned} &\\beta_i = Covariance(R_e,R_m)/Variance(R_m) \\\\ \\end{aligned}\n",
    "\n",
    "One of the most popular uses of Beta is to estimate the cost of equity (Re) in valuation models. The CAPM estimates an asset’s Beta based on a single factor, which is the systematic risk of the market. The cost of equity derived by the CAPM reflects a reality in which most investors have diversified portfolios from which unsystematic risk has been successfully diversified away."
   ]
  },
  {
   "cell_type": "markdown",
   "id": "consolidated-department",
   "metadata": {},
   "source": [
    "<br>\n",
    "\n",
    "# Advantages of the CAPM:\n",
    "The CAPM has several advantages over other methods of calculating required return, explaining why it has been popular for more than 40 years:\n",
    "\n",
    "1. It considers only systematic risk, reflecting a reality in which most investors have diversified portfolios from which unsystematic risk has been essentially eliminated.\n",
    "2. It is a theoretically-derived relationship between required return and systematic risk which has been subject to frequent empirical research and testing.\n",
    "3. It is generally seen as a much better method of calculating the cost of equity than the dividend growth model (DGM) in that it explicitly considers a company’s level of systematic risk relative to the stock market as a whole.\n",
    "4. It is clearly superior to the WACC in providing discount rates for use in investment appraisal"
   ]
  },
  {
   "cell_type": "markdown",
   "id": "58d2a591",
   "metadata": {},
   "source": [
    "<br>\n",
    "\n",
    "### Using Yahoo Financials module:\n",
    "A powerful financial data module used for pulling fundamental and technical stock data from Yahoo Finance\n",
    "\n",
    "We have used the NIFTY 50 index to retrieve the stock data."
   ]
  },
  {
   "cell_type": "markdown",
   "id": "interior-stuart",
   "metadata": {},
   "source": [
    "<br>\n",
    "\n",
    "<h1><center> Automatic beta Calculation for any Indian Stock (Live Demo) </center></h1>"
   ]
  },
  {
   "cell_type": "markdown",
   "id": "91bb6fa8",
   "metadata": {},
   "source": [
    "<br>\n",
    "\n",
    "#### Stock indexes examples: RELIANCE.NS, TCS.NS, ONGC.NS, INFY.NS, HDFCBANK.NS, etc. (from https://finance.yahoo.com/)\n",
    "#### ->Minimum difference between start and end date = 1 year.\n",
    "#### ->Time interval / frequency = monthly.\n",
    "#### ->Stock name and data for the time period must be present in Yahoo Financial's database."
   ]
  },
  {
   "cell_type": "code",
   "execution_count": null,
   "id": "dirty-fighter",
   "metadata": {},
   "outputs": [],
   "source": [
    "# Calculation of beta using regression:\n",
    "\n",
    "def calc_beta(Start_date, End_date, Stock, Frequency_date):\n",
    "    \n",
    "    yf1 = YahooFinancials('^NSEI')\n",
    "    yf1_data = yf1.get_historical_price_data(start_date = Start_date, end_date = End_date, time_interval = Frequency_date)\n",
    "    df1 = pd.DataFrame(yf1_data['^NSEI']['prices'])\n",
    "    df1 = df1.drop('date', axis=1).rename(columns={'formatted_date': 'Date'})\n",
    "\n",
    "    yf2 = YahooFinancials(Stock)\n",
    "    yf2_data = yf2.get_historical_price_data(start_date = Start_date, end_date = End_date, time_interval = Frequency_date)\n",
    "    df2 = pd.DataFrame(yf2_data[Stock]['prices'])\n",
    "    df2 = df2.drop('date', axis=1).rename(columns={'formatted_date': 'Date'})\n",
    "    \n",
    "    df_volume = pd.DataFrame(pd.merge(df1, df2, on = 'Date')[['Date', 'volume_x', 'volume_y']])\n",
    "    df_volume.dropna(inplace = True)\n",
    "    df_volume.columns = ['Date', 'Market Volume', 'Stock Volume']\n",
    "    \n",
    "    Q1 = df_volume['Market Volume'].quantile(0.25)\n",
    "    Q3 = df_volume['Market Volume'].quantile(0.75)\n",
    "    IQR = Q3 - Q1 \n",
    "    filter = (df_volume['Market Volume'] >= Q1 - 1.5 * IQR) & (df_volume['Market Volume'] <= Q3 + 1.5 *IQR)\n",
    "    df_volume = df_volume.loc[filter] \n",
    "\n",
    "    Q1 = df_volume['Stock Volume'].quantile(0.25)\n",
    "    Q3 = df_volume['Stock Volume'].quantile(0.75)\n",
    "    IQR = Q3 - Q1 \n",
    "    filter = (df_volume['Stock Volume'] >= Q1 - 1.5 * IQR) & (df_volume['Stock Volume'] <= Q3 + 1.5 *IQR)\n",
    "    df_volume = df_volume.loc[filter] \n",
    "    \n",
    "    df_volume['Market Volume'] = df_volume['Market Volume'].map(int)\n",
    "    df_volume['Stock Volume'] = df_volume['Stock Volume'].map(int)\n",
    "    df_returns = pd.DataFrame(columns = ['Market Returns', 'Stock Returns'])\n",
    "\n",
    "    for i in range(0, len(df_volume)-1):\n",
    "        df_returns.loc[i] = [100*(df_volume.iloc[i+1, 1] - df_volume.iloc[i, 1])/df_volume.iloc[i, 1], 100*(df_volume.iloc[i+1, 2] - df_volume.iloc[i, 2])/df_volume.iloc[i, 2]]\n",
    "\n",
    "    X = df_returns['Market Returns'].values.reshape(-1, 1)\n",
    "    y = df_returns['Stock Returns'].values.reshape(-1, 1)\n",
    "    linear_regressor = LinearRegression()\n",
    "    linear_regressor.fit(X, y)\n",
    "    y_pred = linear_regressor.predict(X)\n",
    "    plt.scatter(X, y)\n",
    "    plt.plot(X, y_pred, color='red')\n",
    "    plt.show()\n",
    "    \n",
    "    print(\"Regression Method ---->\\n\")\n",
    "    print('Beta = ', linear_regressor.coef_[0][0], '\\nIntercept = ', linear_regressor.intercept_[0])\n",
    "    \n",
    "    cov = np.cov(np.array([df_returns['Market Returns'], df_returns['Stock Returns']]))\n",
    "    var = np.var(df_returns['Market Returns'])\n",
    "\n",
    "    print(\"\\nCovariance Variance Method ---->\\n\")\n",
    "    print('\\nCovariance Matrix : \\n\\n', cov, '\\n\\nVariance (Market Returns) : ', var)\n",
    "    \n",
    "    beta = int(cov[0][1])/var\n",
    "    print('\\nbeta: ',beta)"
   ]
  },
  {
   "cell_type": "code",
   "execution_count": null,
   "id": "2220be91",
   "metadata": {},
   "outputs": [],
   "source": []
  },
  {
   "cell_type": "code",
   "execution_count": null,
   "id": "f4cba9f4",
   "metadata": {},
   "outputs": [],
   "source": [
    "def on_button_clicked(event):\n",
    "    with output:\n",
    "        clear_output()\n",
    "        Start_date = str(start.value)\n",
    "        End_date = str(end.value)\n",
    "        \n",
    "        try:\n",
    "            datetime.strptime(Start_date, '%Y-%m-%d')\n",
    "        except:\n",
    "            display(widgets.HTML(value = \"<h2><center>Start date in wrong format</center></h2>\"))\n",
    "            return\n",
    "        \n",
    "        s = datetime.strptime(Start_date, '%Y-%m-%d')\n",
    "        \n",
    "        try:\n",
    "            datetime.strptime(End_date, '%Y-%m-%d')\n",
    "        except:\n",
    "            display(widgets.HTML(value = \"<h2><center>End date in wrong format</center></h2>\"))\n",
    "            return\n",
    "        \n",
    "        e = datetime.strptime(End_date, '%Y-%m-%d')\n",
    "    \n",
    "        if(s>e):\n",
    "            display(widgets.HTML(value = \"<h2><center>Start date must be less than end date</center></h2>\"))\n",
    "            return\n",
    "    \n",
    "        if(int(relativedelta(e, s).years)<1):\n",
    "            display(widgets.HTML(value = \"<h2><center>Minimum difference between start and end date must be 1 year.</center></h2>\"))\n",
    "            return\n",
    "        \n",
    "        Frequency_date = \"monthly\"\n",
    "        Stock = str(stock.value)\n",
    "        \n",
    "        try:\n",
    "            calc_beta(Start_date, End_date, Stock, Frequency_date)\n",
    "        except:\n",
    "            display(widgets.HTML(value = \"<h2><center>Stock name or data for the time period specified not present in Yahoo Financial's database</center></h2>\"))\n",
    "            return"
   ]
  },
  {
   "cell_type": "code",
   "execution_count": null,
   "id": "06faec7d",
   "metadata": {
    "scrolled": true
   },
   "outputs": [],
   "source": [
    "text_0 = widgets.HTML(value = \"<h1></h1>\", \n",
    "                     layout = widgets.Layout(\n",
    "                     align_items = 'center',\n",
    "                     )\n",
    "                    )\n",
    "\n",
    "start = widgets.Text(\n",
    "        description = 'Start Date',\n",
    "        disabled = False,\n",
    "        layout = widgets.Layout(width = '25%')\n",
    "    )\n",
    "\n",
    "end = widgets.Text(\n",
    "        description = 'End Date',\n",
    "        disabled = False,\n",
    "        layout = widgets.Layout(width = '25%')\n",
    "    )\n",
    "\n",
    "stock = widgets.Text(\n",
    "        description = 'Stock',\n",
    "        disabled = False,\n",
    "        layout = widgets.Layout(width = '25%')\n",
    "    )\n",
    "\n",
    "calculate = widgets.Button(\n",
    "            description = 'Calculate',\n",
    "            layout = widgets.Layout(width = '100%')\n",
    "        )\n",
    "\n",
    "\n",
    "output = widgets.Output()\n",
    "\n",
    "OutputHbox = widgets.HBox([output],\n",
    "                        layout = widgets.Layout(\n",
    "                        justify_content = 'center',\n",
    "                        )\n",
    "                    )\n",
    "\n",
    "\n",
    "inputs1 = widgets.HBox([start, end, stock], \n",
    "                       layout = widgets.Layout(\n",
    "                        justify_content = 'center',\n",
    "                        width = '100%'\n",
    "                        ))\n",
    "\n",
    "calculate.on_click(on_button_clicked)\n",
    "\n",
    "page = widgets.VBox([text_0, text_0, inputs1, text_0, calculate, text_0, text_0, output])\n",
    "display(page)"
   ]
  },
  {
   "cell_type": "markdown",
   "id": "6fd8f96b",
   "metadata": {},
   "source": [
    "### Beta values:\n",
    "A Beta greater than 1 indicates that the security's price will be more volatile than the market and finally, a Beta less than 1 means that it will be less volatile than the market.\n",
    "\n",
    "<b>Beta values can be roughly characterized as follows:</b>\n",
    "\n",
    "1. b Less than 0: Negative Beta is possible but not likely. People thought gold stocks should have negative Betas but that hasn't been true.\n",
    "<br>\n",
    "<br>\n",
    "2. b Equal to 0: Cash under your mattress, assuming no inflation!\n",
    "<br>\n",
    "<br>\n",
    "3. b Between 0 and 1: Low-volatility investments (e.g., utility stocks).\n",
    "<br>\n",
    "<br>\n",
    "4. b Equal to 1: Matching the index.\n",
    "<br>\n",
    "<br>\n",
    "5. b Greater than 1: Anything more volatile than the index.\n",
    "<br>\n",
    "<br>\n",
    "6. b Much Greater than 1: Impossible, because the stock would be expected to go to zero on any market decline."
   ]
  },
  {
   "cell_type": "markdown",
   "id": "c8b081d8",
   "metadata": {},
   "source": [
    "<br>\n",
    "\n",
    "# Result:\n",
    "Beta value predicted using both methods, i.e. regression and covariance/variance approach is approximately same."
   ]
  }
 ],
 "metadata": {
  "kernelspec": {
   "display_name": "Python 3",
   "language": "python",
   "name": "python3"
  },
  "language_info": {
   "codemirror_mode": {
    "name": "ipython",
    "version": 3
   },
   "file_extension": ".py",
   "mimetype": "text/x-python",
   "name": "python",
   "nbconvert_exporter": "python",
   "pygments_lexer": "ipython3",
   "version": "3.9.5"
  }
 },
 "nbformat": 4,
 "nbformat_minor": 5
}
